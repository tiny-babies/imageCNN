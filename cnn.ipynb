{
 "cells": [
  {
   "attachments": {},
   "cell_type": "markdown",
   "metadata": {},
   "source": [
    "# implement a convolutional neural network (CNN) to classify images from the CIFAR-10 dataset."
   ]
  },
  {
   "cell_type": "code",
   "execution_count": 1,
   "metadata": {},
   "outputs": [],
   "source": [
    "from keras.datasets import cifar10\n",
    "from keras.models import Sequential\n",
    "from keras.layers import Conv2D, MaxPooling2D, Flatten, Dense, Dropout, InputLayer\n",
    "from keras.callbacks import EarlyStopping\n",
    "from tensorflow import constant\n",
    "import numpy as np\n",
    "from keras.utils import to_categorical\n",
    "import matplotlib.pyplot as plt\n",
    "\n",
    "import tensorflow as tf"
   ]
  },
  {
   "cell_type": "code",
   "execution_count": 2,
   "metadata": {},
   "outputs": [],
   "source": [
    "# Solve SSL Certificate problem\n",
    "import ssl\n",
    "ssl._create_default_https_context = ssl._create_unverified_context\n"
   ]
  },
  {
   "cell_type": "code",
   "execution_count": 3,
   "metadata": {},
   "outputs": [],
   "source": [
    "(x_train, y_train), (x_test, y_test) = cifar10.load_data()\n",
    "\n",
    "# training data: 50000 images that are 32x32 pixels and RGB\n",
    "assert x_train.shape == (50000, 32, 32, 3)\n",
    "\n",
    "# testing data: 10000 images that are 32x32 pixels and RGB\n",
    "assert x_test.shape == (10000, 32, 32, 3)\n",
    "\n",
    "# Training labels of integers 0-9 for 50000 samples\n",
    "assert y_train.shape == (50000, 1)\n",
    "\n",
    "# Testing labels of integers 0-9 for 50000 samples\n",
    "assert y_test.shape == (10000, 1)\n"
   ]
  },
  {
   "attachments": {},
   "cell_type": "markdown",
   "metadata": {},
   "source": [
    "# simple deep net with the following structure:\n",
    "\n",
    "# Input layer: Specify the appropriate shape (according to CIFAR-10 image shape)\n",
    "# Convolutional layer: 7x7 kernel, 64 output channels, ReLU activation\n",
    "# Max pooling layer: 2x2 pool size, stride 2\n",
    "# Convolutional layer: 3x3 kernel, 128 output channels, ReLU activation\n",
    "# Max pooling layer: 2x2 pool size, stride 2\n",
    "# Convolutional layer: 3x3 kernel, 256 output channels, ReLU activation\n",
    "# Max pooling layer: 2x2 pool size, stride 2\n",
    "# Flatten the output\n",
    "# Dropout layer (0.5 probability)\n",
    "# Dense layer with softmax activation\n",
    "\n",
    "# Using docs from https://keras.io/guides/sequential_model/\n",
    "# https://www.tensorflow.org/api_docs/python/tf/keras/layers/InputLayer\n"
   ]
  },
  {
   "cell_type": "code",
   "execution_count": 4,
   "metadata": {},
   "outputs": [
    {
     "name": "stdout",
     "output_type": "stream",
     "text": [
      "Model: \"sequential\"\n",
      "_________________________________________________________________\n",
      " Layer (type)                Output Shape              Param #   \n",
      "=================================================================\n",
      " conv2d (Conv2D)             (None, 26, 26, 64)        9472      \n",
      "                                                                 \n",
      " max_pooling2d (MaxPooling2D  (None, 13, 13, 64)       0         \n",
      " )                                                               \n",
      "                                                                 \n",
      " conv2d_1 (Conv2D)           (None, 11, 11, 128)       73856     \n",
      "                                                                 \n",
      " max_pooling2d_1 (MaxPooling  (None, 5, 5, 128)        0         \n",
      " 2D)                                                             \n",
      "                                                                 \n",
      " conv2d_2 (Conv2D)           (None, 3, 3, 256)         295168    \n",
      "                                                                 \n",
      " max_pooling2d_2 (MaxPooling  (None, 1, 1, 256)        0         \n",
      " 2D)                                                             \n",
      "                                                                 \n",
      " flatten (Flatten)           (None, 256)               0         \n",
      "                                                                 \n",
      " dropout (Dropout)           (None, 256)               0         \n",
      "                                                                 \n",
      " dense (Dense)               (None, 10)                2570      \n",
      "                                                                 \n",
      "=================================================================\n",
      "Total params: 381,066\n",
      "Trainable params: 381,066\n",
      "Non-trainable params: 0\n",
      "_________________________________________________________________\n"
     ]
    }
   ],
   "source": [
    "model = Sequential()\n",
    "model.add(InputLayer(input_shape=(32,32,3)))\n",
    "model.add(Conv2D(64, (7, 7), activation='relu'))\n",
    "model.add(MaxPooling2D(pool_size=(2, 2), strides=(2, 2)))\n",
    "model.add(Conv2D(128, (3, 3), activation='relu'))\n",
    "model.add(MaxPooling2D(pool_size=(2, 2), strides=(2, 2)))\n",
    "model.add(Conv2D(256, (3, 3), activation='relu'))\n",
    "model.add(MaxPooling2D(pool_size=(2, 2), strides=(2, 2)))\n",
    "model.add(Flatten())\n",
    "model.add(Dropout(0.5))\n",
    "model.add(Dense(10, activation='softmax'))\n",
    "\n",
    "model.summary()"
   ]
  },
  {
   "cell_type": "code",
   "execution_count": 5,
   "metadata": {},
   "outputs": [
    {
     "name": "stdout",
     "output_type": "stream",
     "text": [
      "Epoch 1/17\n",
      "157/157 [==============================] - 50s 308ms/step - loss: 2.6464 - accuracy: 0.2596 - val_loss: 1.7510 - val_accuracy: 0.3720\n",
      "Epoch 2/17\n",
      "157/157 [==============================] - 55s 352ms/step - loss: 1.7368 - accuracy: 0.3752 - val_loss: 1.6433 - val_accuracy: 0.4015\n",
      "Epoch 3/17\n",
      "157/157 [==============================] - 55s 349ms/step - loss: 1.6230 - accuracy: 0.4186 - val_loss: 1.5668 - val_accuracy: 0.4355\n",
      "Epoch 4/17\n",
      "157/157 [==============================] - 54s 347ms/step - loss: 1.5304 - accuracy: 0.4567 - val_loss: 1.4431 - val_accuracy: 0.4857\n",
      "Epoch 5/17\n",
      "157/157 [==============================] - 49s 309ms/step - loss: 1.4649 - accuracy: 0.4811 - val_loss: 1.4489 - val_accuracy: 0.4829\n",
      "Epoch 6/17\n",
      "157/157 [==============================] - 52s 334ms/step - loss: 1.4460 - accuracy: 0.4886 - val_loss: 1.4771 - val_accuracy: 0.4814\n",
      "Epoch 7/17\n",
      "157/157 [==============================] - 49s 315ms/step - loss: 1.3667 - accuracy: 0.5173 - val_loss: 1.4025 - val_accuracy: 0.5046\n",
      "Epoch 8/17\n",
      "157/157 [==============================] - 52s 333ms/step - loss: 1.3379 - accuracy: 0.5269 - val_loss: 1.3319 - val_accuracy: 0.5364\n",
      "Epoch 9/17\n",
      "157/157 [==============================] - 48s 308ms/step - loss: 1.2975 - accuracy: 0.5422 - val_loss: 1.2969 - val_accuracy: 0.5418\n",
      "Epoch 10/17\n",
      "157/157 [==============================] - 54s 344ms/step - loss: 1.2404 - accuracy: 0.5630 - val_loss: 1.2805 - val_accuracy: 0.5518\n",
      "Epoch 11/17\n",
      "157/157 [==============================] - 49s 311ms/step - loss: 1.2171 - accuracy: 0.5720 - val_loss: 1.2777 - val_accuracy: 0.5538\n",
      "Epoch 12/17\n",
      "157/157 [==============================] - 47s 299ms/step - loss: 1.1814 - accuracy: 0.5825 - val_loss: 1.3156 - val_accuracy: 0.5411\n",
      "Epoch 13/17\n",
      "157/157 [==============================] - 50s 320ms/step - loss: 1.1382 - accuracy: 0.5985 - val_loss: 1.2772 - val_accuracy: 0.5582\n",
      "Epoch 14/17\n",
      "157/157 [==============================] - 46s 291ms/step - loss: 1.1271 - accuracy: 0.6026 - val_loss: 1.2799 - val_accuracy: 0.5617\n",
      "Epoch 15/17\n",
      "157/157 [==============================] - 49s 312ms/step - loss: 1.1018 - accuracy: 0.6105 - val_loss: 1.2520 - val_accuracy: 0.5660\n",
      "Epoch 16/17\n",
      "157/157 [==============================] - 51s 327ms/step - loss: 1.0689 - accuracy: 0.6214 - val_loss: 1.2613 - val_accuracy: 0.5665\n",
      "Epoch 17/17\n",
      "157/157 [==============================] - 48s 304ms/step - loss: 1.0316 - accuracy: 0.6374 - val_loss: 1.2952 - val_accuracy: 0.5651\n"
     ]
    }
   ],
   "source": [
    "# https://keras.io/api/callbacks/early_stopping/\n",
    "callback = EarlyStopping(monitor='loss', patience=3)\n",
    "\n",
    "# https://keras.io/api/losses/probabilistic_losses/#categoricalcrossentropy-class\n",
    "# Using the categorical crossentropy loss function because it is appropriate for\n",
    "# our classification problem with multiple classes, and it provides one_hot representation\n",
    "model.compile(optimizer='adam', loss='categorical_crossentropy',\n",
    "              metrics=['accuracy'])\n",
    "\n",
    "# Must one_hot the training data\n",
    "\n",
    "y_train_one_hot = to_categorical(y_train, 10)\n",
    "y_train_one_hot = constant(y_train_one_hot, shape=[50000, 10])\n",
    "\n",
    "# Train the model on the training data, using the last 20% of the data for validation.\n",
    "\n",
    "history = model.fit(x_train, y_train_one_hot, batch_size=256,\n",
    "                    epochs=17, validation_split=0.2)"
   ]
  },
  {
   "cell_type": "code",
   "execution_count": 6,
   "metadata": {},
   "outputs": [
    {
     "data": {
      "text/plain": [
       "<matplotlib.legend.Legend at 0x21fdf4a6970>"
      ]
     },
     "execution_count": 6,
     "metadata": {},
     "output_type": "execute_result"
    },
    {
     "data": {
      "image/png": "[encoded data removed]",
      "text/plain": [
       "<Figure size 640x480 with 1 Axes>"
      ]
     },
     "metadata": {},
     "output_type": "display_data"
    }
   ],
   "source": [
    "# To visualize the loss and validation loss\n",
    "# durring the fitting of the model, we plot\n",
    "# per epoch\n",
    "\n",
    "plt.plot(history.history['loss'], label='train loss')\n",
    "plt.plot(history.history['val_loss'], label='validation loss')\n",
    "plt.xlabel('epoch')\n",
    "plt.ylabel('loss')\n",
    "plt.legend()"
   ]
  },
  {
   "cell_type": "code",
   "execution_count": 7,
   "metadata": {},
   "outputs": [
    {
     "name": "stdout",
     "output_type": "stream",
     "text": [
      "1563/1563 [==============================] - 18s 11ms/step - loss: 0.9280 - accuracy: 0.6806\n",
      "313/313 [==============================] - 4s 12ms/step - loss: 1.2905 - accuracy: 0.5680\n",
      "Training Accuracy:  0.6805800199508667\n",
      "Test Accuracy:  0.5680000185966492\n"
     ]
    }
   ],
   "source": [
    "# Evaluate model performance\n",
    "\n",
    "y_test_one_hot = to_categorical(y_test, 10)\n",
    "y_test_one_hot = constant(y_test_one_hot, shape=[10000, 10])\n",
    "\n",
    "\n",
    "train_loss, train_accuracy = model.evaluate(x_train, y_train_one_hot)\n",
    "test_loss, test_accuracy = model.evaluate(x_test, y_test_one_hot)\n",
    "\n",
    "print(\"Training Accuracy: \", train_accuracy)\n",
    "print(\"Test Accuracy: \", test_accuracy)"
   ]
  },
  {
   "cell_type": "code",
   "execution_count": null,
   "metadata": {},
   "outputs": [],
   "source": [
    "# Finally, compute the confusion matrix\n",
    "# Each row and column represents a class, so for the 10 classes,\n",
    "# the matrix is 10 x 10.  Each row is the actual class of\n",
    "# the image, and the columns are the predicted class.\n",
    "# The diagonal of the matrix is all the correctly classified\n",
    "# images\n",
    "\n",
    "\n",
    "# Get the predictions from the model.\n",
    "pred = model.predict(x_test)\n",
    "\n",
    "# Get the max (class predicted) in each row.\n",
    "y_pred = np.argmax(pred, axis=1)\n",
    "\n",
    "# 10 x 10 confusion matrix for 10 classes.\n",
    "confusion_matrix = np.zeros((10,10))\n",
    "\n",
    "\n",
    "for i in range(len(y_pred)):\n",
    "  true = y_test[i]\n",
    "  pred = y_pred[i]\n",
    "  confusion_matrix[true, pred] += 1\n",
    "\n",
    "print(confusion_matrix)"
   ]
  }
 ],
 "metadata": {
  "kernelspec": {
   "display_name": "base",
   "language": "python",
   "name": "python3"
  },
  "language_info": {
   "codemirror_mode": {
    "name": "ipython",
    "version": 3
   },
   "file_extension": ".py",
   "mimetype": "text/x-python",
   "name": "python",
   "nbconvert_exporter": "python",
   "pygments_lexer": "ipython3",
   "version": "3.9.13"
  },
  "orig_nbformat": 4,
  "vscode": {
   "interpreter": {
    "hash": "07878c45a9b18549480ac2f9ecb8f16bb7162456cf654f6757bcff1d6396abe7"
   }
  }
 },
 "nbformat": 4,
 "nbformat_minor": 2
}
